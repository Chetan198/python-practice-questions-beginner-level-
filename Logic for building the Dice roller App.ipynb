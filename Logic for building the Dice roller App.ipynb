{
 "cells": [
  {
   "cell_type": "code",
   "execution_count": 3,
   "id": "dc7549bb",
   "metadata": {},
   "outputs": [
    {
     "name": "stdout",
     "output_type": "stream",
     "text": [
      "Welcome to the Dice Rolling App!\n",
      "Press Enter to roll the dice.\n",
      "Press 'q' to quit.\n",
      "You rolled: 1\n",
      "Roll again? (y/n): y\n",
      "Press Enter to roll the dice.y\n",
      "Press 'q' to quit.\n",
      "You rolled: 6\n",
      "Roll again? (y/n): q\n",
      "Thanks for playing! Goodbye.\n"
     ]
    }
   ],
   "source": [
    "#importing the necesarry random module\n",
    "import random\n",
    "# defining the function and storing the random number by throwing the dice\n",
    "def roll_dice():\n",
    "    return random.randint(1, 6)\n",
    "\n",
    "def main():\n",
    "    print(\"Welcome to the Dice Rolling App!\")\n",
    "    \n",
    "    while True:\n",
    "        input(\"Press Enter to roll the dice.\")\n",
    "        print(\"Press 'q' to quit.\")\n",
    "        dice_result = roll_dice()\n",
    "        print(f\"You rolled: {dice_result}\")\n",
    " # Here,we are intterpreting that If the user don't wants to play the game,\n",
    "#he is having the choice to quit the game to either press 'Q' or \"N\"\n",
    "        if input(\"Roll again? (y/n): \").lower() != 'y':\n",
    "            print(\"Thanks for playing! Goodbye.\")\n",
    "            break\n",
    "main()"
   ]
  },
  {
   "cell_type": "code",
   "execution_count": null,
   "id": "e3a9238e",
   "metadata": {},
   "outputs": [],
   "source": []
  }
 ],
 "metadata": {
  "kernelspec": {
   "display_name": "Python 3 (ipykernel)",
   "language": "python",
   "name": "python3"
  },
  "language_info": {
   "codemirror_mode": {
    "name": "ipython",
    "version": 3
   },
   "file_extension": ".py",
   "mimetype": "text/x-python",
   "name": "python",
   "nbconvert_exporter": "python",
   "pygments_lexer": "ipython3",
   "version": "3.10.9"
  }
 },
 "nbformat": 4,
 "nbformat_minor": 5
}
